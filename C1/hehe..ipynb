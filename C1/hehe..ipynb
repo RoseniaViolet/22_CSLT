{
 "cells": [
  {
   "cell_type": "code",
   "execution_count": 8,
   "metadata": {},
   "outputs": [
    {
     "name": "stdout",
     "output_type": "stream",
     "text": [
      "2 la SNT\n"
     ]
    },
    {
     "data": {
      "text/plain": [
       "2"
      ]
     },
     "execution_count": 8,
     "metadata": {},
     "output_type": "execute_result"
    }
   ],
   "source": [
    "def Kiemtra(a):\n",
    "    if a < 2:\n",
    "        print(f'{a} khong la SNT')\n",
    "    else:\n",
    "        for i in range(2, a):\n",
    "            if a % i == 0:\n",
    "                print(f'{a} khong la SNT')\n",
    "                break\n",
    "        else:\n",
    "            print(f'{a} la SNT')\n",
    "    return a\n",
    "Kiemtra(2)"
   ]
  }
 ],
 "metadata": {
  "kernelspec": {
   "display_name": "Python 3",
   "language": "python",
   "name": "python3"
  },
  "language_info": {
   "codemirror_mode": {
    "name": "ipython",
    "version": 3
   },
   "file_extension": ".py",
   "mimetype": "text/x-python",
   "name": "python",
   "nbconvert_exporter": "python",
   "pygments_lexer": "ipython3",
   "version": "3.11.5"
  }
 },
 "nbformat": 4,
 "nbformat_minor": 2
}
