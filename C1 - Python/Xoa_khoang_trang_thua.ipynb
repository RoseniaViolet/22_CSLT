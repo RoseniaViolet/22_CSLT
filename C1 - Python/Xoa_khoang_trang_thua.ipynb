{
 "cells": [
  {
   "cell_type": "code",
   "execution_count": 3,
   "metadata": {},
   "outputs": [
    {
     "name": "stdout",
     "output_type": "stream",
     "text": [
      "<class 'list'>\n",
      "['dssdahjsaljsakjdaw']\n"
     ]
    }
   ],
   "source": [
    "def xoa_khoang_trang_thua(s):\n",
    "    result = []\n",
    "    for x in s:\n",
    "        result.append(' '.join(x.split()))\n",
    "        print(type(result))\n",
    "    return result\n",
    "s = input().split('/n')\n",
    "ket_qua = xoa_khoang_trang_thua(s)\n",
    "print(ket_qua)\n"
   ]
  }
 ],
 "metadata": {
  "kernelspec": {
   "display_name": "Python 3",
   "language": "python",
   "name": "python3"
  },
  "language_info": {
   "codemirror_mode": {
    "name": "ipython",
    "version": 3
   },
   "file_extension": ".py",
   "mimetype": "text/x-python",
   "name": "python",
   "nbconvert_exporter": "python",
   "pygments_lexer": "ipython3",
   "version": "3.11.5"
  }
 },
 "nbformat": 4,
 "nbformat_minor": 2
}
